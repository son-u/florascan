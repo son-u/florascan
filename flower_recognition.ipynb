{
 "cells": [
  {
   "cell_type": "code",
   "execution_count": 29,
   "id": "abb4c352-1926-4d1e-8f1e-22885bde1f4d",
   "metadata": {},
   "outputs": [],
   "source": [
    "#Importing Libraries"
   ]
  },
  {
   "cell_type": "code",
   "execution_count": 72,
   "id": "9b91ff44-33ea-44de-9fbe-c14ffee639f8",
   "metadata": {},
   "outputs": [],
   "source": [
    "import numpy as np\n",
    "import tensorflow as tf\n",
    "from keras.preprocessing.image import ImageDataGenerator\n",
    "import scipy\n",
    "from keras.utils import plot_model\n",
    "import matplotlib.pyplot as plt"
   ]
  },
  {
   "cell_type": "code",
   "execution_count": 73,
   "id": "f0c5e073-3274-4759-a074-77aff69eb7cb",
   "metadata": {},
   "outputs": [],
   "source": [
    "#Data Preprocessing"
   ]
  },
  {
   "cell_type": "code",
   "execution_count": 74,
   "id": "ee52e05c-fd5e-44fd-8398-4bdd6540f01c",
   "metadata": {},
   "outputs": [],
   "source": [
    "#Training Image Preprocessing"
   ]
  },
  {
   "cell_type": "code",
   "execution_count": 75,
   "id": "6e1fc481-3616-4c12-8a89-f0c6a6f942f7",
   "metadata": {},
   "outputs": [
    {
     "name": "stdout",
     "output_type": "stream",
     "text": [
      "Found 3442 images belonging to 5 classes.\n"
     ]
    }
   ],
   "source": [
    "train_datagen = ImageDataGenerator(\n",
    "        rescale=1./255,\n",
    "        shear_range=0.2,\n",
    "        zoom_range=0.2,\n",
    "        horizontal_flip=True)\n",
    "training_set = train_datagen.flow_from_directory(\n",
    "        'training_set',\n",
    "        target_size=(64, 64),\n",
    "        batch_size=32,\n",
    "        class_mode='categorical')"
   ]
  },
  {
   "cell_type": "code",
   "execution_count": 76,
   "id": "c0bf33e6-81d2-4ec5-9822-97e0d1a7cdcc",
   "metadata": {},
   "outputs": [],
   "source": [
    "#Test Image Processing"
   ]
  },
  {
   "cell_type": "code",
   "execution_count": 77,
   "id": "c476f9b6",
   "metadata": {},
   "outputs": [
    {
     "name": "stdout",
     "output_type": "stream",
     "text": [
      "Found 895 images belonging to 5 classes.\n"
     ]
    }
   ],
   "source": [
    "test_datagen = ImageDataGenerator(rescale=1./255)\n",
    "test_set = test_datagen.flow_from_directory(\n",
    "        'test_set',\n",
    "        target_size=(64, 64),\n",
    "        batch_size=32,\n",
    "        class_mode='categorical')"
   ]
  },
  {
   "cell_type": "code",
   "execution_count": 78,
   "id": "d4eac653",
   "metadata": {},
   "outputs": [],
   "source": [
    "#Building Model"
   ]
  },
  {
   "cell_type": "code",
   "execution_count": 79,
   "id": "5f190073",
   "metadata": {},
   "outputs": [],
   "source": [
    "cnn = tf.keras.models.Sequential()"
   ]
  },
  {
   "cell_type": "code",
   "execution_count": 80,
   "id": "5b8ee7ff",
   "metadata": {},
   "outputs": [],
   "source": [
    "#Building Convolutional Layer"
   ]
  },
  {
   "cell_type": "code",
   "execution_count": 81,
   "id": "1ca2e3c5",
   "metadata": {},
   "outputs": [],
   "source": [
    "cnn.add(tf.keras.layers.Conv2D(filters=64 , kernel_size=3 , activation='relu' , input_shape=[64,64,3]))\n",
    "cnn.add(tf.keras.layers.MaxPool2D(pool_size=2,strides=2))"
   ]
  },
  {
   "cell_type": "code",
   "execution_count": 82,
   "id": "d349de3e",
   "metadata": {},
   "outputs": [],
   "source": [
    "cnn.add(tf.keras.layers.Conv2D(filters=64 , kernel_size=3 , activation='relu' ))\n",
    "cnn.add(tf.keras.layers.MaxPool2D(pool_size=2 , strides=2))"
   ]
  },
  {
   "cell_type": "code",
   "execution_count": 83,
   "id": "809840b7-f102-4fb2-806f-61f7e4294c12",
   "metadata": {},
   "outputs": [],
   "source": [
    "cnn.add(tf.keras.layers.Conv2D(filters=64 , kernel_size=3 , activation='relu' ))\n",
    "cnn.add(tf.keras.layers.MaxPool2D(pool_size=2 , strides=2))"
   ]
  },
  {
   "cell_type": "code",
   "execution_count": 84,
   "id": "bea297a8",
   "metadata": {},
   "outputs": [],
   "source": [
    "cnn.add(tf.keras.layers.Dropout(0.5))"
   ]
  },
  {
   "cell_type": "code",
   "execution_count": 85,
   "id": "19b7372e",
   "metadata": {},
   "outputs": [],
   "source": [
    "cnn.add(tf.keras.layers.Flatten())"
   ]
  },
  {
   "cell_type": "code",
   "execution_count": 86,
   "id": "f24b5079",
   "metadata": {},
   "outputs": [],
   "source": [
    "cnn.add(tf.keras.layers.Dense(units=128, activation='relu'))"
   ]
  },
  {
   "cell_type": "code",
   "execution_count": 87,
   "id": "d4c21cbe",
   "metadata": {},
   "outputs": [],
   "source": [
    "cnn.add(tf.keras.layers.Dense(units=5 , activation='softmax'))"
   ]
  },
  {
   "cell_type": "code",
   "execution_count": 88,
   "id": "41b20b3f",
   "metadata": {},
   "outputs": [],
   "source": [
    "cnn.compile(optimizer = 'rmsprop' , loss = 'categorical_crossentropy' , metrics = ['accuracy'])"
   ]
  },
  {
   "cell_type": "code",
   "execution_count": 89,
   "id": "38cf333c",
   "metadata": {},
   "outputs": [
    {
     "name": "stdout",
     "output_type": "stream",
     "text": [
      "Epoch 1/30\n",
      "108/108 [==============================] - 116s 1s/step - loss: 1.3263 - accuracy: 0.4123 - val_loss: 1.0670 - val_accuracy: 0.5542\n",
      "Epoch 2/30\n",
      "108/108 [==============================] - 81s 749ms/step - loss: 1.0552 - accuracy: 0.5744 - val_loss: 1.3259 - val_accuracy: 0.5229\n",
      "Epoch 3/30\n",
      "108/108 [==============================] - 33s 302ms/step - loss: 0.9326 - accuracy: 0.6278 - val_loss: 0.8925 - val_accuracy: 0.6492\n",
      "Epoch 4/30\n",
      "108/108 [==============================] - 34s 313ms/step - loss: 0.8614 - accuracy: 0.6618 - val_loss: 0.8023 - val_accuracy: 0.6939\n",
      "Epoch 5/30\n",
      "108/108 [==============================] - 33s 304ms/step - loss: 0.8256 - accuracy: 0.6778 - val_loss: 1.0738 - val_accuracy: 0.5989\n",
      "Epoch 6/30\n",
      "108/108 [==============================] - 33s 306ms/step - loss: 0.7731 - accuracy: 0.7051 - val_loss: 0.9503 - val_accuracy: 0.6480\n",
      "Epoch 7/30\n",
      "108/108 [==============================] - 33s 304ms/step - loss: 0.7346 - accuracy: 0.7220 - val_loss: 0.7388 - val_accuracy: 0.7330\n",
      "Epoch 8/30\n",
      "108/108 [==============================] - 33s 304ms/step - loss: 0.6885 - accuracy: 0.7382 - val_loss: 0.7162 - val_accuracy: 0.7352\n",
      "Epoch 9/30\n",
      "108/108 [==============================] - 34s 311ms/step - loss: 0.6499 - accuracy: 0.7481 - val_loss: 0.7338 - val_accuracy: 0.7374\n",
      "Epoch 10/30\n",
      "108/108 [==============================] - 33s 304ms/step - loss: 0.6302 - accuracy: 0.7687 - val_loss: 0.8016 - val_accuracy: 0.7486\n",
      "Epoch 11/30\n",
      "108/108 [==============================] - 33s 304ms/step - loss: 0.5902 - accuracy: 0.7772 - val_loss: 0.7429 - val_accuracy: 0.7397\n",
      "Epoch 12/30\n",
      "108/108 [==============================] - 34s 316ms/step - loss: 0.5872 - accuracy: 0.7836 - val_loss: 0.7222 - val_accuracy: 0.7542\n",
      "Epoch 13/30\n",
      "108/108 [==============================] - 33s 308ms/step - loss: 0.5519 - accuracy: 0.7963 - val_loss: 0.6922 - val_accuracy: 0.7709\n",
      "Epoch 14/30\n",
      "108/108 [==============================] - 33s 306ms/step - loss: 0.5304 - accuracy: 0.7998 - val_loss: 0.7647 - val_accuracy: 0.7318\n",
      "Epoch 15/30\n",
      "108/108 [==============================] - 34s 315ms/step - loss: 0.5127 - accuracy: 0.8094 - val_loss: 0.6068 - val_accuracy: 0.7911\n",
      "Epoch 16/30\n",
      "108/108 [==============================] - 34s 312ms/step - loss: 0.5105 - accuracy: 0.8141 - val_loss: 0.6476 - val_accuracy: 0.7665\n",
      "Epoch 17/30\n",
      "108/108 [==============================] - 33s 308ms/step - loss: 0.5039 - accuracy: 0.8129 - val_loss: 0.6240 - val_accuracy: 0.7832\n",
      "Epoch 18/30\n",
      "108/108 [==============================] - 34s 315ms/step - loss: 0.4675 - accuracy: 0.8248 - val_loss: 0.6284 - val_accuracy: 0.7832\n",
      "Epoch 19/30\n",
      "108/108 [==============================] - 33s 309ms/step - loss: 0.4442 - accuracy: 0.8338 - val_loss: 0.6011 - val_accuracy: 0.8045\n",
      "Epoch 20/30\n",
      "108/108 [==============================] - 33s 310ms/step - loss: 0.4320 - accuracy: 0.8536 - val_loss: 0.5873 - val_accuracy: 0.8089\n",
      "Epoch 21/30\n",
      "108/108 [==============================] - 33s 306ms/step - loss: 0.4100 - accuracy: 0.8527 - val_loss: 0.6748 - val_accuracy: 0.8056\n",
      "Epoch 22/30\n",
      "108/108 [==============================] - 33s 305ms/step - loss: 0.4248 - accuracy: 0.8472 - val_loss: 0.6268 - val_accuracy: 0.8000\n",
      "Epoch 23/30\n",
      "108/108 [==============================] - 33s 304ms/step - loss: 0.4147 - accuracy: 0.8501 - val_loss: 0.6753 - val_accuracy: 0.7955\n",
      "Epoch 24/30\n",
      "108/108 [==============================] - 33s 305ms/step - loss: 0.3939 - accuracy: 0.8585 - val_loss: 0.7939 - val_accuracy: 0.7832\n",
      "Epoch 25/30\n",
      "108/108 [==============================] - 33s 303ms/step - loss: 0.3936 - accuracy: 0.8585 - val_loss: 0.6017 - val_accuracy: 0.8179\n",
      "Epoch 26/30\n",
      "108/108 [==============================] - 33s 305ms/step - loss: 0.3571 - accuracy: 0.8719 - val_loss: 0.5557 - val_accuracy: 0.8324\n",
      "Epoch 27/30\n",
      "108/108 [==============================] - 34s 312ms/step - loss: 0.3608 - accuracy: 0.8623 - val_loss: 0.6166 - val_accuracy: 0.8190\n",
      "Epoch 28/30\n",
      "108/108 [==============================] - 33s 308ms/step - loss: 0.3275 - accuracy: 0.8818 - val_loss: 0.7175 - val_accuracy: 0.8078\n",
      "Epoch 29/30\n",
      "108/108 [==============================] - 33s 306ms/step - loss: 0.3290 - accuracy: 0.8818 - val_loss: 0.6889 - val_accuracy: 0.8134\n",
      "Epoch 30/30\n",
      "108/108 [==============================] - 33s 307ms/step - loss: 0.3360 - accuracy: 0.8835 - val_loss: 0.6105 - val_accuracy: 0.8235\n"
     ]
    },
    {
     "data": {
      "text/plain": [
       "<keras.src.callbacks.History at 0x247af3e8e90>"
      ]
     },
     "execution_count": 89,
     "metadata": {},
     "output_type": "execute_result"
    }
   ],
   "source": [
    "cnn.fit(x = training_set , validation_data = test_set , epochs = 30)"
   ]
  },
  {
   "cell_type": "code",
   "execution_count": 90,
   "id": "95aec917",
   "metadata": {},
   "outputs": [],
   "source": [
    "cnn.save('flower_model.h5')"
   ]
  },
  {
   "cell_type": "code",
   "execution_count": 91,
   "id": "be3cdbe4-9d7d-4d22-9c7f-c31f1ac5ba7e",
   "metadata": {},
   "outputs": [],
   "source": [
    "# Load the trained model for prediction\n",
    "loaded_model = tf.keras.models.load_model('flower_model.h5')"
   ]
  },
  {
   "cell_type": "code",
   "execution_count": 92,
   "id": "a9fa09f9",
   "metadata": {},
   "outputs": [],
   "source": [
    "#Preprocess New Image"
   ]
  },
  {
   "cell_type": "code",
   "execution_count": 93,
   "id": "f7dfeb95",
   "metadata": {},
   "outputs": [
    {
     "name": "stdout",
     "output_type": "stream",
     "text": [
      "1/1 [==============================] - 0s 171ms/step\n"
     ]
    },
    {
     "data": {
      "text/plain": [
       "{'daisy': 0, 'lotus': 1, 'orchid': 2, 'sunflower': 3, 'tulip': 4}"
      ]
     },
     "execution_count": 93,
     "metadata": {},
     "output_type": "execute_result"
    }
   ],
   "source": [
    "from keras.preprocessing import image\n",
    "test_image = image.load_img('Prediction/orchid.jpg',target_size=(64,64))\n",
    "test_image = image.img_to_array(test_image)\n",
    "test_image = np.expand_dims(test_image,axis=0)\n",
    "result = cnn.predict(test_image)\n",
    "training_set.class_indices"
   ]
  },
  {
   "cell_type": "code",
   "execution_count": 94,
   "id": "48d958b2",
   "metadata": {},
   "outputs": [
    {
     "name": "stdout",
     "output_type": "stream",
     "text": [
      "Orchid\n"
     ]
    }
   ],
   "source": [
    "if result[0][0]==1:\n",
    "    print('Daisy')\n",
    "elif result[0][1]==1:\n",
    "    print('Lotus')\n",
    "elif result[0][2]==1:\n",
    "    print('Orchid')\n",
    "elif result[0][3]==1:\n",
    "    print('SunFlower')\n",
    "elif result[0][4]==1:\n",
    "    print(\"Tulip\")"
   ]
  }
 ],
 "metadata": {
  "kernelspec": {
   "display_name": "Python 3 (ipykernel)",
   "language": "python",
   "name": "python3"
  },
  "language_info": {
   "codemirror_mode": {
    "name": "ipython",
    "version": 3
   },
   "file_extension": ".py",
   "mimetype": "text/x-python",
   "name": "python",
   "nbconvert_exporter": "python",
   "pygments_lexer": "ipython3",
   "version": "3.11.5"
  }
 },
 "nbformat": 4,
 "nbformat_minor": 5
}
